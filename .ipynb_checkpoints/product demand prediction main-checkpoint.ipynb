{
 "cells": [
  {
   "cell_type": "code",
   "execution_count": 1,
   "id": "dad197d4",
   "metadata": {},
   "outputs": [],
   "source": [
    "import pandas as pd"
   ]
  },
  {
   "cell_type": "code",
   "execution_count": 2,
   "id": "54074633",
   "metadata": {},
   "outputs": [],
   "source": [
    "data=pd.read_csv('product.csv')"
   ]
  },
  {
   "cell_type": "code",
   "execution_count": 3,
   "id": "95ca5d35",
   "metadata": {},
   "outputs": [
    {
     "data": {
      "text/plain": [
       "(150150, 9)"
      ]
     },
     "execution_count": 3,
     "metadata": {},
     "output_type": "execute_result"
    }
   ],
   "source": [
    "data.shape"
   ]
  },
  {
   "cell_type": "code",
   "execution_count": 4,
   "id": "b3d0990c",
   "metadata": {},
   "outputs": [
    {
     "data": {
      "text/html": [
       "<div>\n",
       "<style scoped>\n",
       "    .dataframe tbody tr th:only-of-type {\n",
       "        vertical-align: middle;\n",
       "    }\n",
       "\n",
       "    .dataframe tbody tr th {\n",
       "        vertical-align: top;\n",
       "    }\n",
       "\n",
       "    .dataframe thead th {\n",
       "        text-align: right;\n",
       "    }\n",
       "</style>\n",
       "<table border=\"1\" class=\"dataframe\">\n",
       "  <thead>\n",
       "    <tr style=\"text-align: right;\">\n",
       "      <th></th>\n",
       "      <th>record_ID</th>\n",
       "      <th>week</th>\n",
       "      <th>store_id</th>\n",
       "      <th>sku_id</th>\n",
       "      <th>total_price</th>\n",
       "      <th>base_price</th>\n",
       "      <th>is_featured_sku</th>\n",
       "      <th>is_display_sku</th>\n",
       "      <th>units_sold</th>\n",
       "    </tr>\n",
       "  </thead>\n",
       "  <tbody>\n",
       "    <tr>\n",
       "      <th>0</th>\n",
       "      <td>1.0</td>\n",
       "      <td>17-01-2011</td>\n",
       "      <td>8091.0</td>\n",
       "      <td>216418.0</td>\n",
       "      <td>99.0375</td>\n",
       "      <td>111.8625</td>\n",
       "      <td>0.0</td>\n",
       "      <td>0.0</td>\n",
       "      <td>20.0</td>\n",
       "    </tr>\n",
       "    <tr>\n",
       "      <th>1</th>\n",
       "      <td>2.0</td>\n",
       "      <td>17-01-2011</td>\n",
       "      <td>8091.0</td>\n",
       "      <td>216419.0</td>\n",
       "      <td>99.0375</td>\n",
       "      <td>99.0375</td>\n",
       "      <td>0.0</td>\n",
       "      <td>0.0</td>\n",
       "      <td>28.0</td>\n",
       "    </tr>\n",
       "    <tr>\n",
       "      <th>2</th>\n",
       "      <td>3.0</td>\n",
       "      <td>17-01-2011</td>\n",
       "      <td>8091.0</td>\n",
       "      <td>216425.0</td>\n",
       "      <td>133.9500</td>\n",
       "      <td>133.9500</td>\n",
       "      <td>0.0</td>\n",
       "      <td>0.0</td>\n",
       "      <td>19.0</td>\n",
       "    </tr>\n",
       "    <tr>\n",
       "      <th>3</th>\n",
       "      <td>4.0</td>\n",
       "      <td>17-01-2011</td>\n",
       "      <td>8091.0</td>\n",
       "      <td>216233.0</td>\n",
       "      <td>133.9500</td>\n",
       "      <td>133.9500</td>\n",
       "      <td>0.0</td>\n",
       "      <td>0.0</td>\n",
       "      <td>44.0</td>\n",
       "    </tr>\n",
       "    <tr>\n",
       "      <th>4</th>\n",
       "      <td>5.0</td>\n",
       "      <td>17-01-2011</td>\n",
       "      <td>8091.0</td>\n",
       "      <td>217390.0</td>\n",
       "      <td>141.0750</td>\n",
       "      <td>141.0750</td>\n",
       "      <td>0.0</td>\n",
       "      <td>0.0</td>\n",
       "      <td>52.0</td>\n",
       "    </tr>\n",
       "  </tbody>\n",
       "</table>\n",
       "</div>"
      ],
      "text/plain": [
       "   record_ID        week  store_id    sku_id  total_price  base_price  \\\n",
       "0        1.0  17-01-2011    8091.0  216418.0      99.0375    111.8625   \n",
       "1        2.0  17-01-2011    8091.0  216419.0      99.0375     99.0375   \n",
       "2        3.0  17-01-2011    8091.0  216425.0     133.9500    133.9500   \n",
       "3        4.0  17-01-2011    8091.0  216233.0     133.9500    133.9500   \n",
       "4        5.0  17-01-2011    8091.0  217390.0     141.0750    141.0750   \n",
       "\n",
       "   is_featured_sku  is_display_sku  units_sold  \n",
       "0              0.0             0.0        20.0  \n",
       "1              0.0             0.0        28.0  \n",
       "2              0.0             0.0        19.0  \n",
       "3              0.0             0.0        44.0  \n",
       "4              0.0             0.0        52.0  "
      ]
     },
     "execution_count": 4,
     "metadata": {},
     "output_type": "execute_result"
    }
   ],
   "source": [
    "data.head(5)"
   ]
  },
  {
   "cell_type": "code",
   "execution_count": 5,
   "id": "6d64f9fc",
   "metadata": {},
   "outputs": [
    {
     "data": {
      "text/html": [
       "<div>\n",
       "<style scoped>\n",
       "    .dataframe tbody tr th:only-of-type {\n",
       "        vertical-align: middle;\n",
       "    }\n",
       "\n",
       "    .dataframe tbody tr th {\n",
       "        vertical-align: top;\n",
       "    }\n",
       "\n",
       "    .dataframe thead th {\n",
       "        text-align: right;\n",
       "    }\n",
       "</style>\n",
       "<table border=\"1\" class=\"dataframe\">\n",
       "  <thead>\n",
       "    <tr style=\"text-align: right;\">\n",
       "      <th></th>\n",
       "      <th>record_ID</th>\n",
       "      <th>week</th>\n",
       "      <th>store_id</th>\n",
       "      <th>sku_id</th>\n",
       "      <th>total_price</th>\n",
       "      <th>base_price</th>\n",
       "      <th>is_featured_sku</th>\n",
       "      <th>is_display_sku</th>\n",
       "      <th>units_sold</th>\n",
       "    </tr>\n",
       "  </thead>\n",
       "  <tbody>\n",
       "    <tr>\n",
       "      <th>150145</th>\n",
       "      <td>NaN</td>\n",
       "      <td>NaN</td>\n",
       "      <td>NaN</td>\n",
       "      <td>NaN</td>\n",
       "      <td>NaN</td>\n",
       "      <td>NaN</td>\n",
       "      <td>NaN</td>\n",
       "      <td>NaN</td>\n",
       "      <td>NaN</td>\n",
       "    </tr>\n",
       "    <tr>\n",
       "      <th>150146</th>\n",
       "      <td>NaN</td>\n",
       "      <td>NaN</td>\n",
       "      <td>NaN</td>\n",
       "      <td>NaN</td>\n",
       "      <td>NaN</td>\n",
       "      <td>NaN</td>\n",
       "      <td>NaN</td>\n",
       "      <td>NaN</td>\n",
       "      <td>NaN</td>\n",
       "    </tr>\n",
       "    <tr>\n",
       "      <th>150147</th>\n",
       "      <td>NaN</td>\n",
       "      <td>NaN</td>\n",
       "      <td>NaN</td>\n",
       "      <td>NaN</td>\n",
       "      <td>NaN</td>\n",
       "      <td>NaN</td>\n",
       "      <td>NaN</td>\n",
       "      <td>NaN</td>\n",
       "      <td>NaN</td>\n",
       "    </tr>\n",
       "    <tr>\n",
       "      <th>150148</th>\n",
       "      <td>NaN</td>\n",
       "      <td>NaN</td>\n",
       "      <td>NaN</td>\n",
       "      <td>NaN</td>\n",
       "      <td>NaN</td>\n",
       "      <td>NaN</td>\n",
       "      <td>NaN</td>\n",
       "      <td>NaN</td>\n",
       "      <td>NaN</td>\n",
       "    </tr>\n",
       "    <tr>\n",
       "      <th>150149</th>\n",
       "      <td>NaN</td>\n",
       "      <td>NaN</td>\n",
       "      <td>NaN</td>\n",
       "      <td>NaN</td>\n",
       "      <td>NaN</td>\n",
       "      <td>NaN</td>\n",
       "      <td>NaN</td>\n",
       "      <td>NaN</td>\n",
       "      <td>NaN</td>\n",
       "    </tr>\n",
       "  </tbody>\n",
       "</table>\n",
       "</div>"
      ],
      "text/plain": [
       "        record_ID week  store_id  sku_id  total_price  base_price  \\\n",
       "150145        NaN  NaN       NaN     NaN          NaN         NaN   \n",
       "150146        NaN  NaN       NaN     NaN          NaN         NaN   \n",
       "150147        NaN  NaN       NaN     NaN          NaN         NaN   \n",
       "150148        NaN  NaN       NaN     NaN          NaN         NaN   \n",
       "150149        NaN  NaN       NaN     NaN          NaN         NaN   \n",
       "\n",
       "        is_featured_sku  is_display_sku  units_sold  \n",
       "150145              NaN             NaN         NaN  \n",
       "150146              NaN             NaN         NaN  \n",
       "150147              NaN             NaN         NaN  \n",
       "150148              NaN             NaN         NaN  \n",
       "150149              NaN             NaN         NaN  "
      ]
     },
     "execution_count": 5,
     "metadata": {},
     "output_type": "execute_result"
    }
   ],
   "source": [
    "data.tail(5)"
   ]
  },
  {
   "cell_type": "code",
   "execution_count": 7,
   "id": "14380013",
   "metadata": {},
   "outputs": [
    {
     "data": {
      "text/plain": [
       "record_ID          float64\n",
       "week                object\n",
       "store_id           float64\n",
       "sku_id             float64\n",
       "total_price        float64\n",
       "base_price         float64\n",
       "is_featured_sku    float64\n",
       "is_display_sku     float64\n",
       "units_sold         float64\n",
       "dtype: object"
      ]
     },
     "execution_count": 7,
     "metadata": {},
     "output_type": "execute_result"
    }
   ],
   "source": [
    "data.dtypes"
   ]
  },
  {
   "cell_type": "code",
   "execution_count": 8,
   "id": "eee1f261",
   "metadata": {},
   "outputs": [
    {
     "data": {
      "text/plain": [
       "array(['17-01-2011', '24-01-2011', '31-01-2011', '07-02-2011',\n",
       "       '14-02-2011', '21-02-2011', '28-02-2011', '07-03-2011',\n",
       "       '14-03-2011', '21-03-2011', '28-03-2011', '04-04-2011',\n",
       "       '11-04-2011', '18-04-2011', '25-04-2011', '02-05-2011',\n",
       "       '09-05-2011', '16-05-2011', '23-05-2011', '30-05-2011',\n",
       "       '06-06-2011', '13-06-2011', '20-06-2011', '27-06-2011',\n",
       "       '04-07-2011', '11-07-2011', '18-07-2011', '25-07-2011',\n",
       "       '01-08-2011', '08-08-2011', '15-08-2011', '22-08-2011',\n",
       "       '29-08-2011', '05-09-2011', '12-09-2011', '19-09-2011',\n",
       "       '26-09-2011', '03-10-2011', '10-10-2011', '17-10-2011',\n",
       "       '24-10-2011', '31-10-2011', '07-11-2011', '14-11-2011',\n",
       "       '21-11-2011', '28-11-2011', '05-12-2011', '12-12-2011',\n",
       "       '19-12-2011', '26-12-2011', '02-01-2012', '09-01-2012',\n",
       "       '16-01-2012', '23-01-2012', '30-01-2012', '06-02-2012',\n",
       "       '13-02-2012', '20-02-2012', '27-02-2012', '06-03-2012',\n",
       "       '13-03-2012', '20-03-2012', '27-03-2012', '03-04-2012',\n",
       "       '10-04-2012', '17-04-2012', '24-04-2012', '01-05-2012',\n",
       "       '08-05-2012', '15-05-2012', '22-05-2012', '29-05-2012',\n",
       "       '05-06-2012', '12-06-2012', '19-06-2012', '26-06-2012',\n",
       "       '03-07-2012', '10-07-2012', '17-07-2012', '24-07-2012',\n",
       "       '31-07-2012', '07-08-2012', '14-08-2012', '21-08-2012',\n",
       "       '28-08-2012', '04-09-2012', '11-09-2012', '18-09-2012',\n",
       "       '25-09-2012', '02-10-2012', '09-10-2012', '16-10-2012',\n",
       "       '23-10-2012', '30-10-2012', '06-11-2012', '13-11-2012',\n",
       "       '20-11-2012', '27-11-2012', '04-12-2012', '11-12-2012',\n",
       "       '18-12-2012', '25-12-2012', '01-01-2013', '08-01-2013',\n",
       "       '15-01-2013', '22-01-2013', '29-01-2013', '05-02-2013',\n",
       "       '12-02-2013', '19-02-2013', '26-02-2013', '05-03-2013',\n",
       "       '12-03-2013', '19-03-2013', '26-03-2013', '02-04-2013',\n",
       "       '09-04-2013', '16-04-2013', '23-04-2013', '30-04-2013',\n",
       "       '07-05-2013', '14-05-2013', '21-05-2013', '28-05-2013',\n",
       "       '04-06-2013', '11-06-2013', nan], dtype=object)"
      ]
     },
     "execution_count": 8,
     "metadata": {},
     "output_type": "execute_result"
    }
   ],
   "source": [
    "data['week'].unique()"
   ]
  },
  {
   "cell_type": "code",
   "execution_count": 9,
   "id": "558636bd",
   "metadata": {},
   "outputs": [
    {
     "data": {
      "text/plain": [
       "126"
      ]
     },
     "execution_count": 9,
     "metadata": {},
     "output_type": "execute_result"
    }
   ],
   "source": [
    "data['week'].nunique()"
   ]
  },
  {
   "cell_type": "code",
   "execution_count": 10,
   "id": "a1cd709d",
   "metadata": {},
   "outputs": [
    {
     "data": {
      "text/plain": [
       "17-01-2011    1155\n",
       "24-07-2012    1155\n",
       "23-10-2012    1155\n",
       "16-10-2012    1155\n",
       "09-10-2012    1155\n",
       "              ... \n",
       "03-10-2011    1155\n",
       "26-09-2011    1155\n",
       "19-09-2011    1155\n",
       "12-09-2011    1155\n",
       "11-06-2013    1155\n",
       "Name: week, Length: 126, dtype: int64"
      ]
     },
     "execution_count": 10,
     "metadata": {},
     "output_type": "execute_result"
    }
   ],
   "source": [
    "data['week'].value_counts()"
   ]
  },
  {
   "cell_type": "code",
   "execution_count": null,
   "id": "b533bdf5",
   "metadata": {},
   "outputs": [],
   "source": []
  }
 ],
 "metadata": {
  "kernelspec": {
   "display_name": "Python 3 (ipykernel)",
   "language": "python",
   "name": "python3"
  },
  "language_info": {
   "codemirror_mode": {
    "name": "ipython",
    "version": 3
   },
   "file_extension": ".py",
   "mimetype": "text/x-python",
   "name": "python",
   "nbconvert_exporter": "python",
   "pygments_lexer": "ipython3",
   "version": "3.9.13"
  }
 },
 "nbformat": 4,
 "nbformat_minor": 5
}
