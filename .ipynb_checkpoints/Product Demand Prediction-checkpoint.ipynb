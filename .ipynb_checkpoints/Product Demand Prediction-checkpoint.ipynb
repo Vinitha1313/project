{
 "cells": [
  {
   "cell_type": "code",
   "execution_count": 78,
   "id": "d96b2c1a",
   "metadata": {},
   "outputs": [],
   "source": [
    " import pandas as pd"
   ]
  },
  {
   "cell_type": "code",
   "execution_count": 2,
   "id": "66c23f04",
   "metadata": {},
   "outputs": [],
   "source": [
    "data=pd.read_csv('product.csv')"
   ]
  },
  {
   "cell_type": "code",
   "execution_count": 3,
   "id": "cab06888",
   "metadata": {},
   "outputs": [
    {
     "data": {
      "text/plain": [
       "(150150, 9)"
      ]
     },
     "execution_count": 3,
     "metadata": {},
     "output_type": "execute_result"
    }
   ],
   "source": [
    "data.shape"
   ]
  },
  {
   "cell_type": "code",
   "execution_count": 4,
   "id": "7f005ed8",
   "metadata": {
    "scrolled": true
   },
   "outputs": [
    {
     "data": {
      "text/html": [
       "<div>\n",
       "<style scoped>\n",
       "    .dataframe tbody tr th:only-of-type {\n",
       "        vertical-align: middle;\n",
       "    }\n",
       "\n",
       "    .dataframe tbody tr th {\n",
       "        vertical-align: top;\n",
       "    }\n",
       "\n",
       "    .dataframe thead th {\n",
       "        text-align: right;\n",
       "    }\n",
       "</style>\n",
       "<table border=\"1\" class=\"dataframe\">\n",
       "  <thead>\n",
       "    <tr style=\"text-align: right;\">\n",
       "      <th></th>\n",
       "      <th>record_ID</th>\n",
       "      <th>week</th>\n",
       "      <th>store_id</th>\n",
       "      <th>sku_id</th>\n",
       "      <th>total_price</th>\n",
       "      <th>base_price</th>\n",
       "      <th>is_featured_sku</th>\n",
       "      <th>is_display_sku</th>\n",
       "      <th>units_sold</th>\n",
       "    </tr>\n",
       "  </thead>\n",
       "  <tbody>\n",
       "    <tr>\n",
       "      <th>0</th>\n",
       "      <td>1.0</td>\n",
       "      <td>17-01-2011</td>\n",
       "      <td>8091.0</td>\n",
       "      <td>216418.0</td>\n",
       "      <td>99.0375</td>\n",
       "      <td>111.8625</td>\n",
       "      <td>0.0</td>\n",
       "      <td>0.0</td>\n",
       "      <td>20.0</td>\n",
       "    </tr>\n",
       "    <tr>\n",
       "      <th>1</th>\n",
       "      <td>2.0</td>\n",
       "      <td>17-01-2011</td>\n",
       "      <td>8091.0</td>\n",
       "      <td>216419.0</td>\n",
       "      <td>99.0375</td>\n",
       "      <td>99.0375</td>\n",
       "      <td>0.0</td>\n",
       "      <td>0.0</td>\n",
       "      <td>28.0</td>\n",
       "    </tr>\n",
       "    <tr>\n",
       "      <th>2</th>\n",
       "      <td>3.0</td>\n",
       "      <td>17-01-2011</td>\n",
       "      <td>8091.0</td>\n",
       "      <td>216425.0</td>\n",
       "      <td>133.9500</td>\n",
       "      <td>133.9500</td>\n",
       "      <td>0.0</td>\n",
       "      <td>0.0</td>\n",
       "      <td>19.0</td>\n",
       "    </tr>\n",
       "    <tr>\n",
       "      <th>3</th>\n",
       "      <td>4.0</td>\n",
       "      <td>17-01-2011</td>\n",
       "      <td>8091.0</td>\n",
       "      <td>216233.0</td>\n",
       "      <td>133.9500</td>\n",
       "      <td>133.9500</td>\n",
       "      <td>0.0</td>\n",
       "      <td>0.0</td>\n",
       "      <td>44.0</td>\n",
       "    </tr>\n",
       "    <tr>\n",
       "      <th>4</th>\n",
       "      <td>5.0</td>\n",
       "      <td>17-01-2011</td>\n",
       "      <td>8091.0</td>\n",
       "      <td>217390.0</td>\n",
       "      <td>141.0750</td>\n",
       "      <td>141.0750</td>\n",
       "      <td>0.0</td>\n",
       "      <td>0.0</td>\n",
       "      <td>52.0</td>\n",
       "    </tr>\n",
       "    <tr>\n",
       "      <th>5</th>\n",
       "      <td>9.0</td>\n",
       "      <td>17-01-2011</td>\n",
       "      <td>8091.0</td>\n",
       "      <td>219009.0</td>\n",
       "      <td>227.2875</td>\n",
       "      <td>227.2875</td>\n",
       "      <td>0.0</td>\n",
       "      <td>0.0</td>\n",
       "      <td>18.0</td>\n",
       "    </tr>\n",
       "  </tbody>\n",
       "</table>\n",
       "</div>"
      ],
      "text/plain": [
       "   record_ID        week  store_id    sku_id  total_price  base_price  \\\n",
       "0        1.0  17-01-2011    8091.0  216418.0      99.0375    111.8625   \n",
       "1        2.0  17-01-2011    8091.0  216419.0      99.0375     99.0375   \n",
       "2        3.0  17-01-2011    8091.0  216425.0     133.9500    133.9500   \n",
       "3        4.0  17-01-2011    8091.0  216233.0     133.9500    133.9500   \n",
       "4        5.0  17-01-2011    8091.0  217390.0     141.0750    141.0750   \n",
       "5        9.0  17-01-2011    8091.0  219009.0     227.2875    227.2875   \n",
       "\n",
       "   is_featured_sku  is_display_sku  units_sold  \n",
       "0              0.0             0.0        20.0  \n",
       "1              0.0             0.0        28.0  \n",
       "2              0.0             0.0        19.0  \n",
       "3              0.0             0.0        44.0  \n",
       "4              0.0             0.0        52.0  \n",
       "5              0.0             0.0        18.0  "
      ]
     },
     "execution_count": 4,
     "metadata": {},
     "output_type": "execute_result"
    }
   ],
   "source": [
    "data.head(6)"
   ]
  },
  {
   "cell_type": "code",
   "execution_count": 5,
   "id": "585b0f5e",
   "metadata": {},
   "outputs": [
    {
     "data": {
      "text/plain": [
       "Index(['record_ID', 'week', 'store_id', 'sku_id', 'total_price', 'base_price',\n",
       "       'is_featured_sku', 'is_display_sku', 'units_sold'],\n",
       "      dtype='object')"
      ]
     },
     "execution_count": 5,
     "metadata": {},
     "output_type": "execute_result"
    }
   ],
   "source": [
    "data.columns"
   ]
  },
  {
   "cell_type": "code",
   "execution_count": 6,
   "id": "de8b5de7",
   "metadata": {},
   "outputs": [
    {
     "data": {
      "text/html": [
       "<div>\n",
       "<style scoped>\n",
       "    .dataframe tbody tr th:only-of-type {\n",
       "        vertical-align: middle;\n",
       "    }\n",
       "\n",
       "    .dataframe tbody tr th {\n",
       "        vertical-align: top;\n",
       "    }\n",
       "\n",
       "    .dataframe thead th {\n",
       "        text-align: right;\n",
       "    }\n",
       "</style>\n",
       "<table border=\"1\" class=\"dataframe\">\n",
       "  <thead>\n",
       "    <tr style=\"text-align: right;\">\n",
       "      <th></th>\n",
       "      <th>record_ID</th>\n",
       "      <th>week</th>\n",
       "      <th>store_id</th>\n",
       "      <th>sku_id</th>\n",
       "      <th>total_price</th>\n",
       "      <th>base_price</th>\n",
       "      <th>is_featured_sku</th>\n",
       "      <th>is_display_sku</th>\n",
       "      <th>units_sold</th>\n",
       "    </tr>\n",
       "  </thead>\n",
       "  <tbody>\n",
       "    <tr>\n",
       "      <th>150145</th>\n",
       "      <td>NaN</td>\n",
       "      <td>NaN</td>\n",
       "      <td>NaN</td>\n",
       "      <td>NaN</td>\n",
       "      <td>NaN</td>\n",
       "      <td>NaN</td>\n",
       "      <td>NaN</td>\n",
       "      <td>NaN</td>\n",
       "      <td>NaN</td>\n",
       "    </tr>\n",
       "    <tr>\n",
       "      <th>150146</th>\n",
       "      <td>NaN</td>\n",
       "      <td>NaN</td>\n",
       "      <td>NaN</td>\n",
       "      <td>NaN</td>\n",
       "      <td>NaN</td>\n",
       "      <td>NaN</td>\n",
       "      <td>NaN</td>\n",
       "      <td>NaN</td>\n",
       "      <td>NaN</td>\n",
       "    </tr>\n",
       "    <tr>\n",
       "      <th>150147</th>\n",
       "      <td>NaN</td>\n",
       "      <td>NaN</td>\n",
       "      <td>NaN</td>\n",
       "      <td>NaN</td>\n",
       "      <td>NaN</td>\n",
       "      <td>NaN</td>\n",
       "      <td>NaN</td>\n",
       "      <td>NaN</td>\n",
       "      <td>NaN</td>\n",
       "    </tr>\n",
       "    <tr>\n",
       "      <th>150148</th>\n",
       "      <td>NaN</td>\n",
       "      <td>NaN</td>\n",
       "      <td>NaN</td>\n",
       "      <td>NaN</td>\n",
       "      <td>NaN</td>\n",
       "      <td>NaN</td>\n",
       "      <td>NaN</td>\n",
       "      <td>NaN</td>\n",
       "      <td>NaN</td>\n",
       "    </tr>\n",
       "    <tr>\n",
       "      <th>150149</th>\n",
       "      <td>NaN</td>\n",
       "      <td>NaN</td>\n",
       "      <td>NaN</td>\n",
       "      <td>NaN</td>\n",
       "      <td>NaN</td>\n",
       "      <td>NaN</td>\n",
       "      <td>NaN</td>\n",
       "      <td>NaN</td>\n",
       "      <td>NaN</td>\n",
       "    </tr>\n",
       "  </tbody>\n",
       "</table>\n",
       "</div>"
      ],
      "text/plain": [
       "        record_ID week  store_id  sku_id  total_price  base_price  \\\n",
       "150145        NaN  NaN       NaN     NaN          NaN         NaN   \n",
       "150146        NaN  NaN       NaN     NaN          NaN         NaN   \n",
       "150147        NaN  NaN       NaN     NaN          NaN         NaN   \n",
       "150148        NaN  NaN       NaN     NaN          NaN         NaN   \n",
       "150149        NaN  NaN       NaN     NaN          NaN         NaN   \n",
       "\n",
       "        is_featured_sku  is_display_sku  units_sold  \n",
       "150145              NaN             NaN         NaN  \n",
       "150146              NaN             NaN         NaN  \n",
       "150147              NaN             NaN         NaN  \n",
       "150148              NaN             NaN         NaN  \n",
       "150149              NaN             NaN         NaN  "
      ]
     },
     "execution_count": 6,
     "metadata": {},
     "output_type": "execute_result"
    }
   ],
   "source": [
    "data.tail()"
   ]
  },
  {
   "cell_type": "markdown",
   "id": "05090c5f",
   "metadata": {},
   "source": [
    "# missing values"
   ]
  },
  {
   "cell_type": "code",
   "execution_count": 76,
   "id": "8dce51f4",
   "metadata": {},
   "outputs": [
    {
     "data": {
      "text/html": [
       "<div>\n",
       "<style scoped>\n",
       "    .dataframe tbody tr th:only-of-type {\n",
       "        vertical-align: middle;\n",
       "    }\n",
       "\n",
       "    .dataframe tbody tr th {\n",
       "        vertical-align: top;\n",
       "    }\n",
       "\n",
       "    .dataframe thead th {\n",
       "        text-align: right;\n",
       "    }\n",
       "</style>\n",
       "<table border=\"1\" class=\"dataframe\">\n",
       "  <thead>\n",
       "    <tr style=\"text-align: right;\">\n",
       "      <th></th>\n",
       "      <th>record_ID</th>\n",
       "      <th>store_id</th>\n",
       "      <th>sku_id</th>\n",
       "      <th>total_price</th>\n",
       "      <th>base_price</th>\n",
       "      <th>is_featured_sku</th>\n",
       "      <th>is_display_sku</th>\n",
       "      <th>units_sold</th>\n",
       "    </tr>\n",
       "  </thead>\n",
       "  <tbody>\n",
       "    <tr>\n",
       "      <th>0</th>\n",
       "      <td>False</td>\n",
       "      <td>False</td>\n",
       "      <td>False</td>\n",
       "      <td>False</td>\n",
       "      <td>False</td>\n",
       "      <td>False</td>\n",
       "      <td>False</td>\n",
       "      <td>False</td>\n",
       "    </tr>\n",
       "    <tr>\n",
       "      <th>1</th>\n",
       "      <td>False</td>\n",
       "      <td>False</td>\n",
       "      <td>False</td>\n",
       "      <td>False</td>\n",
       "      <td>False</td>\n",
       "      <td>False</td>\n",
       "      <td>False</td>\n",
       "      <td>False</td>\n",
       "    </tr>\n",
       "    <tr>\n",
       "      <th>2</th>\n",
       "      <td>False</td>\n",
       "      <td>False</td>\n",
       "      <td>False</td>\n",
       "      <td>False</td>\n",
       "      <td>False</td>\n",
       "      <td>False</td>\n",
       "      <td>False</td>\n",
       "      <td>False</td>\n",
       "    </tr>\n",
       "    <tr>\n",
       "      <th>3</th>\n",
       "      <td>False</td>\n",
       "      <td>False</td>\n",
       "      <td>False</td>\n",
       "      <td>False</td>\n",
       "      <td>False</td>\n",
       "      <td>False</td>\n",
       "      <td>False</td>\n",
       "      <td>False</td>\n",
       "    </tr>\n",
       "    <tr>\n",
       "      <th>4</th>\n",
       "      <td>False</td>\n",
       "      <td>False</td>\n",
       "      <td>False</td>\n",
       "      <td>False</td>\n",
       "      <td>False</td>\n",
       "      <td>False</td>\n",
       "      <td>False</td>\n",
       "      <td>False</td>\n",
       "    </tr>\n",
       "    <tr>\n",
       "      <th>...</th>\n",
       "      <td>...</td>\n",
       "      <td>...</td>\n",
       "      <td>...</td>\n",
       "      <td>...</td>\n",
       "      <td>...</td>\n",
       "      <td>...</td>\n",
       "      <td>...</td>\n",
       "      <td>...</td>\n",
       "    </tr>\n",
       "    <tr>\n",
       "      <th>145525</th>\n",
       "      <td>False</td>\n",
       "      <td>False</td>\n",
       "      <td>False</td>\n",
       "      <td>False</td>\n",
       "      <td>False</td>\n",
       "      <td>False</td>\n",
       "      <td>False</td>\n",
       "      <td>False</td>\n",
       "    </tr>\n",
       "    <tr>\n",
       "      <th>145526</th>\n",
       "      <td>False</td>\n",
       "      <td>False</td>\n",
       "      <td>False</td>\n",
       "      <td>False</td>\n",
       "      <td>False</td>\n",
       "      <td>False</td>\n",
       "      <td>False</td>\n",
       "      <td>False</td>\n",
       "    </tr>\n",
       "    <tr>\n",
       "      <th>145527</th>\n",
       "      <td>False</td>\n",
       "      <td>False</td>\n",
       "      <td>False</td>\n",
       "      <td>False</td>\n",
       "      <td>False</td>\n",
       "      <td>False</td>\n",
       "      <td>False</td>\n",
       "      <td>False</td>\n",
       "    </tr>\n",
       "    <tr>\n",
       "      <th>145528</th>\n",
       "      <td>False</td>\n",
       "      <td>False</td>\n",
       "      <td>False</td>\n",
       "      <td>False</td>\n",
       "      <td>False</td>\n",
       "      <td>False</td>\n",
       "      <td>False</td>\n",
       "      <td>False</td>\n",
       "    </tr>\n",
       "    <tr>\n",
       "      <th>145529</th>\n",
       "      <td>False</td>\n",
       "      <td>False</td>\n",
       "      <td>False</td>\n",
       "      <td>False</td>\n",
       "      <td>False</td>\n",
       "      <td>False</td>\n",
       "      <td>False</td>\n",
       "      <td>False</td>\n",
       "    </tr>\n",
       "  </tbody>\n",
       "</table>\n",
       "<p>145529 rows × 8 columns</p>\n",
       "</div>"
      ],
      "text/plain": [
       "        record_ID  store_id  sku_id  total_price  base_price  is_featured_sku  \\\n",
       "0           False     False   False        False       False            False   \n",
       "1           False     False   False        False       False            False   \n",
       "2           False     False   False        False       False            False   \n",
       "3           False     False   False        False       False            False   \n",
       "4           False     False   False        False       False            False   \n",
       "...           ...       ...     ...          ...         ...              ...   \n",
       "145525      False     False   False        False       False            False   \n",
       "145526      False     False   False        False       False            False   \n",
       "145527      False     False   False        False       False            False   \n",
       "145528      False     False   False        False       False            False   \n",
       "145529      False     False   False        False       False            False   \n",
       "\n",
       "        is_display_sku  units_sold  \n",
       "0                False       False  \n",
       "1                False       False  \n",
       "2                False       False  \n",
       "3                False       False  \n",
       "4                False       False  \n",
       "...                ...         ...  \n",
       "145525           False       False  \n",
       "145526           False       False  \n",
       "145527           False       False  \n",
       "145528           False       False  \n",
       "145529           False       False  \n",
       "\n",
       "[145529 rows x 8 columns]"
      ]
     },
     "execution_count": 76,
     "metadata": {},
     "output_type": "execute_result"
    }
   ],
   "source": [
    "data.isnull()"
   ]
  },
  {
   "cell_type": "code",
   "execution_count": 77,
   "id": "da44e866",
   "metadata": {},
   "outputs": [
    {
     "data": {
      "text/plain": [
       "record_ID          0\n",
       "store_id           0\n",
       "sku_id             0\n",
       "total_price        0\n",
       "base_price         0\n",
       "is_featured_sku    0\n",
       "is_display_sku     0\n",
       "units_sold         0\n",
       "dtype: int64"
      ]
     },
     "execution_count": 77,
     "metadata": {},
     "output_type": "execute_result"
    }
   ],
   "source": [
    "data.isnull().sum()"
   ]
  },
  {
   "cell_type": "code",
   "execution_count": 8,
   "id": "741ca4d7",
   "metadata": {},
   "outputs": [],
   "source": [
    "data = data.dropna()"
   ]
  },
  {
   "cell_type": "code",
   "execution_count": 9,
   "id": "e96a3f1b",
   "metadata": {},
   "outputs": [
    {
     "data": {
      "text/plain": [
       "0          99.0375\n",
       "1          99.0375\n",
       "2         133.9500\n",
       "3         133.9500\n",
       "4         141.0750\n",
       "            ...   \n",
       "145525    241.5375\n",
       "145526    235.8375\n",
       "145527    375.4875\n",
       "145528    191.6625\n",
       "145529    234.4125\n",
       "Name: total_price, Length: 145529, dtype: float64"
      ]
     },
     "execution_count": 9,
     "metadata": {},
     "output_type": "execute_result"
    }
   ],
   "source": [
    "data['total_price']"
   ]
  },
  {
   "cell_type": "code",
   "execution_count": 10,
   "id": "fff44165",
   "metadata": {
    "scrolled": true
   },
   "outputs": [
    {
     "data": {
      "text/plain": [
       "record_ID          float64\n",
       "week                object\n",
       "store_id           float64\n",
       "sku_id             float64\n",
       "total_price        float64\n",
       "base_price         float64\n",
       "is_featured_sku    float64\n",
       "is_display_sku     float64\n",
       "units_sold         float64\n",
       "dtype: object"
      ]
     },
     "execution_count": 10,
     "metadata": {},
     "output_type": "execute_result"
    }
   ],
   "source": [
    "data.dtypes"
   ]
  },
  {
   "cell_type": "code",
   "execution_count": 11,
   "id": "d1e0952f",
   "metadata": {},
   "outputs": [],
   "source": [
    "for i in data.columns:\n",
    "    if data[i].isnull().sum()>=1:\n",
    "        print(i)"
   ]
  },
  {
   "cell_type": "code",
   "execution_count": 12,
   "id": "3b0e0b65",
   "metadata": {},
   "outputs": [],
   "source": [
    "data_na=[i for i in data.columns if data[i].isnull().sum()>=1]"
   ]
  },
  {
   "cell_type": "code",
   "execution_count": 13,
   "id": "be410c27",
   "metadata": {},
   "outputs": [
    {
     "data": {
      "text/plain": [
       "[]"
      ]
     },
     "execution_count": 13,
     "metadata": {},
     "output_type": "execute_result"
    }
   ],
   "source": [
    "data_na"
   ]
  },
  {
   "cell_type": "code",
   "execution_count": 14,
   "id": "dc3806d9",
   "metadata": {},
   "outputs": [
    {
     "data": {
      "text/plain": [
       "0"
      ]
     },
     "execution_count": 14,
     "metadata": {},
     "output_type": "execute_result"
    }
   ],
   "source": [
    "len(data_na)"
   ]
  },
  {
   "cell_type": "code",
   "execution_count": 15,
   "id": "a92eb1b9",
   "metadata": {},
   "outputs": [],
   "source": [
    "import numpy as np"
   ]
  },
  {
   "cell_type": "code",
   "execution_count": 16,
   "id": "286fe84d",
   "metadata": {},
   "outputs": [],
   "source": [
    "for i in data_na:\n",
    "    print(i,'=>',np.round((data[i].isnull().mean()*100),4),'%')"
   ]
  },
  {
   "cell_type": "code",
   "execution_count": 17,
   "id": "a3de87a1",
   "metadata": {},
   "outputs": [],
   "source": [
    "data_na_20=[i for i in data_na if  np.round((data[i].isnull().mean()*100),4)>20.0]\n",
    "   "
   ]
  },
  {
   "cell_type": "code",
   "execution_count": 18,
   "id": "61c55e4a",
   "metadata": {},
   "outputs": [
    {
     "data": {
      "text/plain": [
       "[]"
      ]
     },
     "execution_count": 18,
     "metadata": {},
     "output_type": "execute_result"
    }
   ],
   "source": [
    "data_na_20"
   ]
  },
  {
   "cell_type": "code",
   "execution_count": 19,
   "id": "d55cd3a0",
   "metadata": {},
   "outputs": [
    {
     "data": {
      "text/plain": [
       "<bound method NDFrame._add_numeric_operations.<locals>.median of 0          99.0375\n",
       "1          99.0375\n",
       "2         133.9500\n",
       "3         133.9500\n",
       "4         141.0750\n",
       "            ...   \n",
       "145525    241.5375\n",
       "145526    235.8375\n",
       "145527    375.4875\n",
       "145528    191.6625\n",
       "145529    234.4125\n",
       "Name: total_price, Length: 145529, dtype: float64>"
      ]
     },
     "execution_count": 19,
     "metadata": {},
     "output_type": "execute_result"
    }
   ],
   "source": [
    "data['total_price'].median"
   ]
  },
  {
   "cell_type": "code",
   "execution_count": 20,
   "id": "6f892332",
   "metadata": {},
   "outputs": [
    {
     "data": {
      "text/html": [
       "<div>\n",
       "<style scoped>\n",
       "    .dataframe tbody tr th:only-of-type {\n",
       "        vertical-align: middle;\n",
       "    }\n",
       "\n",
       "    .dataframe tbody tr th {\n",
       "        vertical-align: top;\n",
       "    }\n",
       "\n",
       "    .dataframe thead th {\n",
       "        text-align: right;\n",
       "    }\n",
       "</style>\n",
       "<table border=\"1\" class=\"dataframe\">\n",
       "  <thead>\n",
       "    <tr style=\"text-align: right;\">\n",
       "      <th></th>\n",
       "      <th>total_price</th>\n",
       "    </tr>\n",
       "  </thead>\n",
       "  <tbody>\n",
       "    <tr>\n",
       "      <th>5</th>\n",
       "      <td>227.2875</td>\n",
       "    </tr>\n",
       "  </tbody>\n",
       "</table>\n",
       "</div>"
      ],
      "text/plain": [
       "   total_price\n",
       "5     227.2875"
      ]
     },
     "execution_count": 20,
     "metadata": {},
     "output_type": "execute_result"
    }
   ],
   "source": [
    "data.iloc[5:6,4:5]"
   ]
  },
  {
   "cell_type": "code",
   "execution_count": 21,
   "id": "ccc108c5",
   "metadata": {},
   "outputs": [],
   "source": [
    "data.iloc[5:6,4:5]=np.nan"
   ]
  },
  {
   "cell_type": "code",
   "execution_count": 22,
   "id": "9ea87bda",
   "metadata": {},
   "outputs": [
    {
     "data": {
      "text/html": [
       "<div>\n",
       "<style scoped>\n",
       "    .dataframe tbody tr th:only-of-type {\n",
       "        vertical-align: middle;\n",
       "    }\n",
       "\n",
       "    .dataframe tbody tr th {\n",
       "        vertical-align: top;\n",
       "    }\n",
       "\n",
       "    .dataframe thead th {\n",
       "        text-align: right;\n",
       "    }\n",
       "</style>\n",
       "<table border=\"1\" class=\"dataframe\">\n",
       "  <thead>\n",
       "    <tr style=\"text-align: right;\">\n",
       "      <th></th>\n",
       "      <th>total_price</th>\n",
       "    </tr>\n",
       "  </thead>\n",
       "  <tbody>\n",
       "    <tr>\n",
       "      <th>5</th>\n",
       "      <td>NaN</td>\n",
       "    </tr>\n",
       "  </tbody>\n",
       "</table>\n",
       "</div>"
      ],
      "text/plain": [
       "   total_price\n",
       "5          NaN"
      ]
     },
     "execution_count": 22,
     "metadata": {},
     "output_type": "execute_result"
    }
   ],
   "source": [
    "data.iloc[5:6,4:5]"
   ]
  },
  {
   "cell_type": "code",
   "execution_count": 23,
   "id": "28be2375",
   "metadata": {},
   "outputs": [],
   "source": [
    "x=data['total_price'].mean()"
   ]
  },
  {
   "cell_type": "code",
   "execution_count": 24,
   "id": "80382b4b",
   "metadata": {},
   "outputs": [
    {
     "data": {
      "text/plain": [
       "206.55322515268315"
      ]
     },
     "execution_count": 24,
     "metadata": {},
     "output_type": "execute_result"
    }
   ],
   "source": [
    "x"
   ]
  },
  {
   "cell_type": "code",
   "execution_count": 25,
   "id": "f840f294",
   "metadata": {},
   "outputs": [
    {
     "data": {
      "text/plain": [
       "197.3625"
      ]
     },
     "execution_count": 25,
     "metadata": {},
     "output_type": "execute_result"
    }
   ],
   "source": [
    "data['total_price'].median()"
   ]
  },
  {
   "cell_type": "code",
   "execution_count": 26,
   "id": "0df23c2b",
   "metadata": {},
   "outputs": [],
   "source": [
    "data.iloc[5:6,4:5]=np.round(data['total_price'].mean(),0)"
   ]
  },
  {
   "cell_type": "code",
   "execution_count": 27,
   "id": "fa2555c6",
   "metadata": {
    "scrolled": true
   },
   "outputs": [
    {
     "data": {
      "text/html": [
       "<div>\n",
       "<style scoped>\n",
       "    .dataframe tbody tr th:only-of-type {\n",
       "        vertical-align: middle;\n",
       "    }\n",
       "\n",
       "    .dataframe tbody tr th {\n",
       "        vertical-align: top;\n",
       "    }\n",
       "\n",
       "    .dataframe thead th {\n",
       "        text-align: right;\n",
       "    }\n",
       "</style>\n",
       "<table border=\"1\" class=\"dataframe\">\n",
       "  <thead>\n",
       "    <tr style=\"text-align: right;\">\n",
       "      <th></th>\n",
       "      <th>total_price</th>\n",
       "    </tr>\n",
       "  </thead>\n",
       "  <tbody>\n",
       "    <tr>\n",
       "      <th>5</th>\n",
       "      <td>207.0</td>\n",
       "    </tr>\n",
       "  </tbody>\n",
       "</table>\n",
       "</div>"
      ],
      "text/plain": [
       "   total_price\n",
       "5        207.0"
      ]
     },
     "execution_count": 27,
     "metadata": {},
     "output_type": "execute_result"
    }
   ],
   "source": [
    "data.iloc[5:6,4:5]"
   ]
  },
  {
   "cell_type": "markdown",
   "id": "3d63593e",
   "metadata": {},
   "source": [
    "# outlier analysis"
   ]
  },
  {
   "cell_type": "code",
   "execution_count": 28,
   "id": "9b10ab93",
   "metadata": {
    "scrolled": true
   },
   "outputs": [
    {
     "data": {
      "text/plain": [
       "Index(['record_ID', 'week', 'store_id', 'sku_id', 'total_price', 'base_price',\n",
       "       'is_featured_sku', 'is_display_sku', 'units_sold'],\n",
       "      dtype='object')"
      ]
     },
     "execution_count": 28,
     "metadata": {},
     "output_type": "execute_result"
    }
   ],
   "source": [
    "data.columns"
   ]
  },
  {
   "cell_type": "code",
   "execution_count": 29,
   "id": "3b91aad5",
   "metadata": {},
   "outputs": [],
   "source": [
    "data_2=data[['record_ID', 'week', 'store_id', 'sku_id', 'total_price', 'base_price',\n",
    "       'is_featured_sku', 'is_display_sku', 'units_sold']]"
   ]
  },
  {
   "cell_type": "code",
   "execution_count": 30,
   "id": "bf4bf9ca",
   "metadata": {},
   "outputs": [
    {
     "data": {
      "text/plain": [
       "(145529, 9)"
      ]
     },
     "execution_count": 30,
     "metadata": {},
     "output_type": "execute_result"
    }
   ],
   "source": [
    "data_2.shape"
   ]
  },
  {
   "cell_type": "code",
   "execution_count": 31,
   "id": "1d286eb5",
   "metadata": {},
   "outputs": [
    {
     "data": {
      "text/plain": [
       "record_ID          float64\n",
       "week                object\n",
       "store_id           float64\n",
       "sku_id             float64\n",
       "total_price        float64\n",
       "base_price         float64\n",
       "is_featured_sku    float64\n",
       "is_display_sku     float64\n",
       "units_sold         float64\n",
       "dtype: object"
      ]
     },
     "execution_count": 31,
     "metadata": {},
     "output_type": "execute_result"
    }
   ],
   "source": [
    "data_2.dtypes"
   ]
  },
  {
   "cell_type": "code",
   "execution_count": 32,
   "id": "d7815a15",
   "metadata": {},
   "outputs": [],
   "source": [
    "cnames=['record_ID', 'week', 'store_id','total_price','units_sold']"
   ]
  },
  {
   "cell_type": "code",
   "execution_count": 33,
   "id": "5e2751bd",
   "metadata": {},
   "outputs": [
    {
     "data": {
      "text/plain": [
       "['record_ID', 'week', 'store_id', 'total_price', 'units_sold']"
      ]
     },
     "execution_count": 33,
     "metadata": {},
     "output_type": "execute_result"
    }
   ],
   "source": [
    "cnames"
   ]
  },
  {
   "cell_type": "code",
   "execution_count": 34,
   "id": "2643e288",
   "metadata": {},
   "outputs": [],
   "source": [
    "import numpy as np"
   ]
  },
  {
   "cell_type": "code",
   "execution_count": 35,
   "id": "1fbefa62",
   "metadata": {},
   "outputs": [],
   "source": [
    "q75,q25=np.percentile(data_2['store_id'],[75,25])"
   ]
  },
  {
   "cell_type": "code",
   "execution_count": 36,
   "id": "bb50805e",
   "metadata": {},
   "outputs": [
    {
     "data": {
      "text/plain": [
       "9731.0"
      ]
     },
     "execution_count": 36,
     "metadata": {},
     "output_type": "execute_result"
    }
   ],
   "source": [
    "q75"
   ]
  },
  {
   "cell_type": "code",
   "execution_count": 37,
   "id": "8950229d",
   "metadata": {},
   "outputs": [
    {
     "data": {
      "text/plain": [
       "8562.0"
      ]
     },
     "execution_count": 37,
     "metadata": {},
     "output_type": "execute_result"
    }
   ],
   "source": [
    "q25"
   ]
  },
  {
   "cell_type": "code",
   "execution_count": 38,
   "id": "c9f0e6c5",
   "metadata": {},
   "outputs": [],
   "source": [
    "iqr=q75-q25"
   ]
  },
  {
   "cell_type": "code",
   "execution_count": 39,
   "id": "116331ff",
   "metadata": {},
   "outputs": [
    {
     "data": {
      "text/plain": [
       "1169.0"
      ]
     },
     "execution_count": 39,
     "metadata": {},
     "output_type": "execute_result"
    }
   ],
   "source": [
    "iqr"
   ]
  },
  {
   "cell_type": "code",
   "execution_count": 40,
   "id": "56018ed4",
   "metadata": {},
   "outputs": [],
   "source": [
    "min_val=q25-(iqr*1.5)\n",
    "max_val=q75+(iqr*1.5)"
   ]
  },
  {
   "cell_type": "code",
   "execution_count": 41,
   "id": "ae58477d",
   "metadata": {},
   "outputs": [
    {
     "data": {
      "text/plain": [
       "6808.5"
      ]
     },
     "execution_count": 41,
     "metadata": {},
     "output_type": "execute_result"
    }
   ],
   "source": [
    "min_val"
   ]
  },
  {
   "cell_type": "code",
   "execution_count": 42,
   "id": "569dc08e",
   "metadata": {},
   "outputs": [
    {
     "data": {
      "text/plain": [
       "11484.5"
      ]
     },
     "execution_count": 42,
     "metadata": {},
     "output_type": "execute_result"
    }
   ],
   "source": [
    "max_val"
   ]
  },
  {
   "cell_type": "code",
   "execution_count": 43,
   "id": "a6cea567",
   "metadata": {},
   "outputs": [],
   "source": [
    "import matplotlib.pyplot as plt\n",
    "import seaborn as sns"
   ]
  },
  {
   "cell_type": "code",
   "execution_count": 44,
   "id": "340fa97f",
   "metadata": {},
   "outputs": [
    {
     "data": {
      "text/plain": [
       "<AxesSubplot:>"
      ]
     },
     "execution_count": 44,
     "metadata": {},
     "output_type": "execute_result"
    },
    {
     "data": {
      "image/png": "[encoded data removed]",
      "text/plain": [
       "<Figure size 700x500 with 1 Axes>"
      ]
     },
     "metadata": {},
     "output_type": "display_data"
    }
   ],
   "source": [
    "fig=plt.subplots(figsize=(7,5))\n",
    "sns.boxplot(data=data_2[['store_id']])"
   ]
  },
  {
   "cell_type": "markdown",
   "id": "a791c9d9",
   "metadata": {},
   "source": [
    "# feature selection"
   ]
  },
  {
   "cell_type": "code",
   "execution_count": 45,
   "id": "bca2586c",
   "metadata": {},
   "outputs": [],
   "source": [
    "numerics=['int64','object','float64']"
   ]
  },
  {
   "cell_type": "code",
   "execution_count": 46,
   "id": "dded392e",
   "metadata": {},
   "outputs": [],
   "source": [
    "data_num=data.select_dtypes(include=numerics)"
   ]
  },
  {
   "cell_type": "code",
   "execution_count": 47,
   "id": "7a8e2081",
   "metadata": {},
   "outputs": [],
   "source": [
    "data_num=data_num.iloc[:,0:10]"
   ]
  },
  {
   "cell_type": "code",
   "execution_count": 48,
   "id": "7580693f",
   "metadata": {},
   "outputs": [
    {
     "data": {
      "text/html": [
       "<div>\n",
       "<style scoped>\n",
       "    .dataframe tbody tr th:only-of-type {\n",
       "        vertical-align: middle;\n",
       "    }\n",
       "\n",
       "    .dataframe tbody tr th {\n",
       "        vertical-align: top;\n",
       "    }\n",
       "\n",
       "    .dataframe thead th {\n",
       "        text-align: right;\n",
       "    }\n",
       "</style>\n",
       "<table border=\"1\" class=\"dataframe\">\n",
       "  <thead>\n",
       "    <tr style=\"text-align: right;\">\n",
       "      <th></th>\n",
       "      <th>record_ID</th>\n",
       "      <th>store_id</th>\n",
       "      <th>sku_id</th>\n",
       "      <th>total_price</th>\n",
       "      <th>base_price</th>\n",
       "      <th>is_featured_sku</th>\n",
       "      <th>is_display_sku</th>\n",
       "      <th>units_sold</th>\n",
       "    </tr>\n",
       "  </thead>\n",
       "  <tbody>\n",
       "    <tr>\n",
       "      <th>record_ID</th>\n",
       "      <td>1.000000</td>\n",
       "      <td>0.007697</td>\n",
       "      <td>-0.000491</td>\n",
       "      <td>0.007760</td>\n",
       "      <td>0.016779</td>\n",
       "      <td>0.023520</td>\n",
       "      <td>0.013594</td>\n",
       "      <td>-0.014028</td>\n",
       "    </tr>\n",
       "    <tr>\n",
       "      <th>store_id</th>\n",
       "      <td>0.007697</td>\n",
       "      <td>1.000000</td>\n",
       "      <td>-0.068628</td>\n",
       "      <td>-0.038352</td>\n",
       "      <td>-0.038936</td>\n",
       "      <td>-0.008789</td>\n",
       "      <td>0.014934</td>\n",
       "      <td>-0.003653</td>\n",
       "    </tr>\n",
       "    <tr>\n",
       "      <th>sku_id</th>\n",
       "      <td>-0.000491</td>\n",
       "      <td>-0.068628</td>\n",
       "      <td>1.000000</td>\n",
       "      <td>0.118739</td>\n",
       "      <td>0.118682</td>\n",
       "      <td>-0.020141</td>\n",
       "      <td>0.014852</td>\n",
       "      <td>-0.183558</td>\n",
       "    </tr>\n",
       "    <tr>\n",
       "      <th>total_price</th>\n",
       "      <td>0.007760</td>\n",
       "      <td>-0.038352</td>\n",
       "      <td>0.118739</td>\n",
       "      <td>1.000000</td>\n",
       "      <td>0.958989</td>\n",
       "      <td>0.044710</td>\n",
       "      <td>-0.070069</td>\n",
       "      <td>-0.237271</td>\n",
       "    </tr>\n",
       "    <tr>\n",
       "      <th>base_price</th>\n",
       "      <td>0.016779</td>\n",
       "      <td>-0.038936</td>\n",
       "      <td>0.118682</td>\n",
       "      <td>0.958989</td>\n",
       "      <td>1.000000</td>\n",
       "      <td>0.207969</td>\n",
       "      <td>0.046854</td>\n",
       "      <td>-0.141457</td>\n",
       "    </tr>\n",
       "    <tr>\n",
       "      <th>is_featured_sku</th>\n",
       "      <td>0.023520</td>\n",
       "      <td>-0.008789</td>\n",
       "      <td>-0.020141</td>\n",
       "      <td>0.044710</td>\n",
       "      <td>0.207969</td>\n",
       "      <td>1.000000</td>\n",
       "      <td>0.415271</td>\n",
       "      <td>0.335155</td>\n",
       "    </tr>\n",
       "    <tr>\n",
       "      <th>is_display_sku</th>\n",
       "      <td>0.013594</td>\n",
       "      <td>0.014934</td>\n",
       "      <td>0.014852</td>\n",
       "      <td>-0.070069</td>\n",
       "      <td>0.046854</td>\n",
       "      <td>0.415271</td>\n",
       "      <td>1.000000</td>\n",
       "      <td>0.361882</td>\n",
       "    </tr>\n",
       "    <tr>\n",
       "      <th>units_sold</th>\n",
       "      <td>-0.014028</td>\n",
       "      <td>-0.003653</td>\n",
       "      <td>-0.183558</td>\n",
       "      <td>-0.237271</td>\n",
       "      <td>-0.141457</td>\n",
       "      <td>0.335155</td>\n",
       "      <td>0.361882</td>\n",
       "      <td>1.000000</td>\n",
       "    </tr>\n",
       "  </tbody>\n",
       "</table>\n",
       "</div>"
      ],
      "text/plain": [
       "                 record_ID  store_id    sku_id  total_price  base_price  \\\n",
       "record_ID         1.000000  0.007697 -0.000491     0.007760    0.016779   \n",
       "store_id          0.007697  1.000000 -0.068628    -0.038352   -0.038936   \n",
       "sku_id           -0.000491 -0.068628  1.000000     0.118739    0.118682   \n",
       "total_price       0.007760 -0.038352  0.118739     1.000000    0.958989   \n",
       "base_price        0.016779 -0.038936  0.118682     0.958989    1.000000   \n",
       "is_featured_sku   0.023520 -0.008789 -0.020141     0.044710    0.207969   \n",
       "is_display_sku    0.013594  0.014934  0.014852    -0.070069    0.046854   \n",
       "units_sold       -0.014028 -0.003653 -0.183558    -0.237271   -0.141457   \n",
       "\n",
       "                 is_featured_sku  is_display_sku  units_sold  \n",
       "record_ID               0.023520        0.013594   -0.014028  \n",
       "store_id               -0.008789        0.014934   -0.003653  \n",
       "sku_id                 -0.020141        0.014852   -0.183558  \n",
       "total_price             0.044710       -0.070069   -0.237271  \n",
       "base_price              0.207969        0.046854   -0.141457  \n",
       "is_featured_sku         1.000000        0.415271    0.335155  \n",
       "is_display_sku          0.415271        1.000000    0.361882  \n",
       "units_sold              0.335155        0.361882    1.000000  "
      ]
     },
     "execution_count": 48,
     "metadata": {},
     "output_type": "execute_result"
    }
   ],
   "source": [
    "data_num.corr()"
   ]
  },
  {
   "cell_type": "code",
   "execution_count": 49,
   "id": "3176f951",
   "metadata": {},
   "outputs": [
    {
     "name": "stderr",
     "output_type": "stream",
     "text": [
      "C:\\Users\\VINITHA\\AppData\\Local\\Temp\\ipykernel_22232\\543531142.py:3: DeprecationWarning: `np.bool` is a deprecated alias for the builtin `bool`. To silence this warning, use `bool` by itself. Doing this will not modify any behavior and is safe. If you specifically wanted the numpy scalar type, use `np.bool_` here.\n",
      "Deprecated in NumPy 1.20; for more details and guidance: https://numpy.org/devdocs/release/1.20.0-notes.html#deprecations\n",
      "  sns.heatmap(corr,mask=np.zeros_like(corr,dtype=np.bool),annot=True,cmap=sns.diverging_palette(220,10,as_cmap=True),square=True,ax=ax)\n"
     ]
    },
    {
     "data": {
      "text/plain": [
       "<AxesSubplot:>"
      ]
     },
     "execution_count": 49,
     "metadata": {},
     "output_type": "execute_result"
    },
    {
     "data": {
      "image/png": "[encoded data removed]",
      "text/plain": [
       "<Figure size 1000x700 with 2 Axes>"
      ]
     },
     "metadata": {},
     "output_type": "display_data"
    }
   ],
   "source": [
    "f,ax=plt.subplots(figsize=(10,7))\n",
    "corr=data_2.corr()\n",
    "sns.heatmap(corr,mask=np.zeros_like(corr,dtype=np.bool),annot=True,cmap=sns.diverging_palette(220,10,as_cmap=True),square=True,ax=ax)"
   ]
  },
  {
   "cell_type": "markdown",
   "id": "b61984b9",
   "metadata": {},
   "source": [
    "# feature scaling"
   ]
  },
  {
   "cell_type": "code",
   "execution_count": 50,
   "id": "91907972",
   "metadata": {},
   "outputs": [],
   "source": [
    "cnames=['record_ID',  'store_id', 'sku_id','base_price',\n",
    "      'units_sold'],\n",
    "      "
   ]
  },
  {
   "cell_type": "code",
   "execution_count": 51,
   "id": "87398460",
   "metadata": {},
   "outputs": [
    {
     "data": {
      "text/plain": [
       "(['record_ID', 'store_id', 'sku_id', 'base_price', 'units_sold'],)"
      ]
     },
     "execution_count": 51,
     "metadata": {},
     "output_type": "execute_result"
    }
   ],
   "source": [
    "cnames"
   ]
  },
  {
   "cell_type": "code",
   "execution_count": 52,
   "id": "0ef558ef",
   "metadata": {},
   "outputs": [
    {
     "data": {
      "text/plain": [
       "record_ID          0\n",
       "week               0\n",
       "store_id           0\n",
       "sku_id             0\n",
       "total_price        0\n",
       "base_price         0\n",
       "is_featured_sku    0\n",
       "is_display_sku     0\n",
       "units_sold         0\n",
       "dtype: int64"
      ]
     },
     "execution_count": 52,
     "metadata": {},
     "output_type": "execute_result"
    }
   ],
   "source": [
    "data.isnull().sum()"
   ]
  },
  {
   "cell_type": "code",
   "execution_count": 53,
   "id": "8f1eb5b4",
   "metadata": {},
   "outputs": [],
   "source": [
    "data['record_ID']=data['record_ID'].astype('int64')\n",
    "data['store_id']=data['store_id'].astype('int64')\n",
    "data['sku_id']=data['sku_id'].astype('int64')\n",
    "data['base_price']=data['base_price'].astype('int64')\n",
    "data['units_sold']=data['units_sold'].astype('int64')"
   ]
  },
  {
   "cell_type": "code",
   "execution_count": 54,
   "id": "b027b5c1",
   "metadata": {},
   "outputs": [],
   "source": [
    "data['record_ID']=(data['record_ID']-min(data['record_ID']))/(max(data['record_ID'])-min(data['record_ID']))\n"
   ]
  },
  {
   "cell_type": "code",
   "execution_count": 55,
   "id": "313e6992",
   "metadata": {},
   "outputs": [],
   "source": [
    "data['store_id']=(data['store_id']-min(data['store_id']))/(max(data['store_id'])-min(data['store_id']))\n"
   ]
  },
  {
   "cell_type": "code",
   "execution_count": 56,
   "id": "b3b54322",
   "metadata": {},
   "outputs": [],
   "source": [
    "data['sku_id']=(data['sku_id']-min(data['sku_id']))/(max(data['sku_id'])-min(data['sku_id']))\n",
    "\n"
   ]
  },
  {
   "cell_type": "code",
   "execution_count": 57,
   "id": "a8fe8f89",
   "metadata": {},
   "outputs": [],
   "source": [
    "data['base_price']=(data['base_price']-min(data['base_price']))/(max(data['base_price'])-min(data['base_price']))\n"
   ]
  },
  {
   "cell_type": "code",
   "execution_count": 58,
   "id": "f2aed3e4",
   "metadata": {},
   "outputs": [],
   "source": [
    "data['units_sold']=(data['units_sold']-min(data['units_sold']))/(max(data['units_sold'])-min(data['units_sold']))\n"
   ]
  },
  {
   "cell_type": "code",
   "execution_count": 59,
   "id": "d86a8a9a",
   "metadata": {},
   "outputs": [],
   "source": [
    "# #normalization\n",
    "# for i in cnames:\n",
    "#     print(data[i])\n",
    "#     data[i]=(data[i]-min(data[i]))/(max(data[i])-min(data[i]))"
   ]
  },
  {
   "cell_type": "code",
   "execution_count": 60,
   "id": "a399fb7a",
   "metadata": {},
   "outputs": [
    {
     "data": {
      "text/html": [
       "<div>\n",
       "<style scoped>\n",
       "    .dataframe tbody tr th:only-of-type {\n",
       "        vertical-align: middle;\n",
       "    }\n",
       "\n",
       "    .dataframe tbody tr th {\n",
       "        vertical-align: top;\n",
       "    }\n",
       "\n",
       "    .dataframe thead th {\n",
       "        text-align: right;\n",
       "    }\n",
       "</style>\n",
       "<table border=\"1\" class=\"dataframe\">\n",
       "  <thead>\n",
       "    <tr style=\"text-align: right;\">\n",
       "      <th></th>\n",
       "      <th>record_ID</th>\n",
       "      <th>week</th>\n",
       "      <th>store_id</th>\n",
       "      <th>sku_id</th>\n",
       "      <th>total_price</th>\n",
       "      <th>base_price</th>\n",
       "      <th>is_featured_sku</th>\n",
       "      <th>is_display_sku</th>\n",
       "      <th>units_sold</th>\n",
       "    </tr>\n",
       "  </thead>\n",
       "  <tbody>\n",
       "    <tr>\n",
       "      <th>0</th>\n",
       "      <td>0.000000</td>\n",
       "      <td>17-01-2011</td>\n",
       "      <td>0.034676</td>\n",
       "      <td>0.000400</td>\n",
       "      <td>99.0375</td>\n",
       "      <td>0.105932</td>\n",
       "      <td>0.0</td>\n",
       "      <td>0.0</td>\n",
       "      <td>0.006609</td>\n",
       "    </tr>\n",
       "    <tr>\n",
       "      <th>1</th>\n",
       "      <td>0.000005</td>\n",
       "      <td>17-01-2011</td>\n",
       "      <td>0.034676</td>\n",
       "      <td>0.000402</td>\n",
       "      <td>99.0375</td>\n",
       "      <td>0.080508</td>\n",
       "      <td>0.0</td>\n",
       "      <td>0.0</td>\n",
       "      <td>0.009391</td>\n",
       "    </tr>\n",
       "    <tr>\n",
       "      <th>2</th>\n",
       "      <td>0.000010</td>\n",
       "      <td>17-01-2011</td>\n",
       "      <td>0.034676</td>\n",
       "      <td>0.000415</td>\n",
       "      <td>133.9500</td>\n",
       "      <td>0.152542</td>\n",
       "      <td>0.0</td>\n",
       "      <td>0.0</td>\n",
       "      <td>0.006261</td>\n",
       "    </tr>\n",
       "    <tr>\n",
       "      <th>3</th>\n",
       "      <td>0.000015</td>\n",
       "      <td>17-01-2011</td>\n",
       "      <td>0.034676</td>\n",
       "      <td>0.000000</td>\n",
       "      <td>133.9500</td>\n",
       "      <td>0.152542</td>\n",
       "      <td>0.0</td>\n",
       "      <td>0.0</td>\n",
       "      <td>0.014957</td>\n",
       "    </tr>\n",
       "    <tr>\n",
       "      <th>4</th>\n",
       "      <td>0.000019</td>\n",
       "      <td>17-01-2011</td>\n",
       "      <td>0.034676</td>\n",
       "      <td>0.002500</td>\n",
       "      <td>141.0750</td>\n",
       "      <td>0.169492</td>\n",
       "      <td>0.0</td>\n",
       "      <td>0.0</td>\n",
       "      <td>0.017739</td>\n",
       "    </tr>\n",
       "    <tr>\n",
       "      <th>...</th>\n",
       "      <td>...</td>\n",
       "      <td>...</td>\n",
       "      <td>...</td>\n",
       "      <td>...</td>\n",
       "      <td>...</td>\n",
       "      <td>...</td>\n",
       "      <td>...</td>\n",
       "      <td>...</td>\n",
       "      <td>...</td>\n",
       "    </tr>\n",
       "    <tr>\n",
       "      <th>145525</th>\n",
       "      <td>0.999971</td>\n",
       "      <td>11-06-2013</td>\n",
       "      <td>1.000000</td>\n",
       "      <td>0.015152</td>\n",
       "      <td>241.5375</td>\n",
       "      <td>0.381356</td>\n",
       "      <td>0.0</td>\n",
       "      <td>0.0</td>\n",
       "      <td>0.009391</td>\n",
       "    </tr>\n",
       "    <tr>\n",
       "      <th>145526</th>\n",
       "      <td>0.999976</td>\n",
       "      <td>11-06-2013</td>\n",
       "      <td>1.000000</td>\n",
       "      <td>0.014953</td>\n",
       "      <td>235.8375</td>\n",
       "      <td>0.368644</td>\n",
       "      <td>0.0</td>\n",
       "      <td>0.0</td>\n",
       "      <td>0.012870</td>\n",
       "    </tr>\n",
       "    <tr>\n",
       "      <th>145527</th>\n",
       "      <td>0.999990</td>\n",
       "      <td>11-06-2013</td>\n",
       "      <td>1.000000</td>\n",
       "      <td>0.062890</td>\n",
       "      <td>375.4875</td>\n",
       "      <td>0.894068</td>\n",
       "      <td>1.0</td>\n",
       "      <td>1.0</td>\n",
       "      <td>0.009739</td>\n",
       "    </tr>\n",
       "    <tr>\n",
       "      <th>145528</th>\n",
       "      <td>0.999995</td>\n",
       "      <td>11-06-2013</td>\n",
       "      <td>1.000000</td>\n",
       "      <td>0.716742</td>\n",
       "      <td>191.6625</td>\n",
       "      <td>0.275424</td>\n",
       "      <td>0.0</td>\n",
       "      <td>0.0</td>\n",
       "      <td>0.005913</td>\n",
       "    </tr>\n",
       "    <tr>\n",
       "      <th>145529</th>\n",
       "      <td>1.000000</td>\n",
       "      <td>11-06-2013</td>\n",
       "      <td>1.000000</td>\n",
       "      <td>1.000000</td>\n",
       "      <td>234.4125</td>\n",
       "      <td>0.366525</td>\n",
       "      <td>0.0</td>\n",
       "      <td>1.0</td>\n",
       "      <td>0.002087</td>\n",
       "    </tr>\n",
       "  </tbody>\n",
       "</table>\n",
       "<p>145529 rows × 9 columns</p>\n",
       "</div>"
      ],
      "text/plain": [
       "        record_ID        week  store_id    sku_id  total_price  base_price  \\\n",
       "0        0.000000  17-01-2011  0.034676  0.000400      99.0375    0.105932   \n",
       "1        0.000005  17-01-2011  0.034676  0.000402      99.0375    0.080508   \n",
       "2        0.000010  17-01-2011  0.034676  0.000415     133.9500    0.152542   \n",
       "3        0.000015  17-01-2011  0.034676  0.000000     133.9500    0.152542   \n",
       "4        0.000019  17-01-2011  0.034676  0.002500     141.0750    0.169492   \n",
       "...           ...         ...       ...       ...          ...         ...   \n",
       "145525   0.999971  11-06-2013  1.000000  0.015152     241.5375    0.381356   \n",
       "145526   0.999976  11-06-2013  1.000000  0.014953     235.8375    0.368644   \n",
       "145527   0.999990  11-06-2013  1.000000  0.062890     375.4875    0.894068   \n",
       "145528   0.999995  11-06-2013  1.000000  0.716742     191.6625    0.275424   \n",
       "145529   1.000000  11-06-2013  1.000000  1.000000     234.4125    0.366525   \n",
       "\n",
       "        is_featured_sku  is_display_sku  units_sold  \n",
       "0                   0.0             0.0    0.006609  \n",
       "1                   0.0             0.0    0.009391  \n",
       "2                   0.0             0.0    0.006261  \n",
       "3                   0.0             0.0    0.014957  \n",
       "4                   0.0             0.0    0.017739  \n",
       "...                 ...             ...         ...  \n",
       "145525              0.0             0.0    0.009391  \n",
       "145526              0.0             0.0    0.012870  \n",
       "145527              1.0             1.0    0.009739  \n",
       "145528              0.0             0.0    0.005913  \n",
       "145529              0.0             1.0    0.002087  \n",
       "\n",
       "[145529 rows x 9 columns]"
      ]
     },
     "execution_count": 60,
     "metadata": {},
     "output_type": "execute_result"
    }
   ],
   "source": [
    "data"
   ]
  },
  {
   "cell_type": "code",
   "execution_count": 61,
   "id": "f6b5cec6",
   "metadata": {},
   "outputs": [
    {
     "name": "stdout",
     "output_type": "stream",
     "text": [
      "['record_ID', 'store_id', 'sku_id', 'base_price', 'units_sold']\n"
     ]
    }
   ],
   "source": [
    "#standardization\n",
    "for i in cnames:\n",
    "    print(i)\n",
    "    data[i]=(data[i].mean())/(data[i].std())"
   ]
  },
  {
   "cell_type": "code",
   "execution_count": 62,
   "id": "8bde9394",
   "metadata": {},
   "outputs": [
    {
     "data": {
      "text/plain": [
       "count    1.455290e+05\n",
       "mean     1.911036e+00\n",
       "std      1.149973e-12\n",
       "min      1.911036e+00\n",
       "25%      1.911036e+00\n",
       "50%      1.911036e+00\n",
       "75%      1.911036e+00\n",
       "max      1.911036e+00\n",
       "Name: store_id, dtype: float64"
      ]
     },
     "execution_count": 62,
     "metadata": {},
     "output_type": "execute_result"
    }
   ],
   "source": [
    "data['store_id'].describe()"
   ]
  },
  {
   "cell_type": "markdown",
   "id": "9ece30ed",
   "metadata": {},
   "source": [
    "# decision tree"
   ]
  },
  {
   "cell_type": "code",
   "execution_count": 63,
   "id": "17ce38ee",
   "metadata": {},
   "outputs": [],
   "source": [
    "dep=data['units_sold']"
   ]
  },
  {
   "cell_type": "code",
   "execution_count": 64,
   "id": "b995d316",
   "metadata": {},
   "outputs": [
    {
     "data": {
      "text/plain": [
       "Index(['record_ID', 'week', 'store_id', 'sku_id', 'total_price', 'base_price',\n",
       "       'is_featured_sku', 'is_display_sku', 'units_sold'],\n",
       "      dtype='object')"
      ]
     },
     "execution_count": 64,
     "metadata": {},
     "output_type": "execute_result"
    }
   ],
   "source": [
    "data.columns"
   ]
  },
  {
   "cell_type": "code",
   "execution_count": 65,
   "id": "92ae96dc",
   "metadata": {},
   "outputs": [],
   "source": [
    "data = data[['record_ID', 'store_id', 'sku_id', 'total_price', 'base_price',\n",
    "       'is_featured_sku', 'is_display_sku', 'units_sold']]"
   ]
  },
  {
   "cell_type": "code",
   "execution_count": 66,
   "id": "65b10976",
   "metadata": {},
   "outputs": [],
   "source": [
    "from sklearn.model_selection import train_test_split\n",
    "x_train,x_test,y_train,y_test=train_test_split(data,dep,test_size=0.3,random_state=42)"
   ]
  },
  {
   "cell_type": "code",
   "execution_count": 67,
   "id": "7a2a2e1e",
   "metadata": {},
   "outputs": [],
   "source": [
    "def rmsle(y,y_,convertExp=True):\n",
    "    if convertExp:\n",
    "        y=np.exp(y),\n",
    "        y_=np.exp(y_)\n",
    "    log1=np.nan_to_num(np.array([np.log(v+1) for v in y]))\n",
    "    log2=np.nan_to_num(np.array([np.log(v+1) for v in y_]))\n",
    "    calc=(log1-log2) ** 2\n",
    "    return np.sqrt(np.mean(calc))"
   ]
  },
  {
   "cell_type": "code",
   "execution_count": 68,
   "id": "29cd5392",
   "metadata": {},
   "outputs": [],
   "source": [
    "## Decision tree\n",
    "from sklearn.tree import DecisionTreeRegressor\n",
    "dt_mod=DecisionTreeRegressor(max_depth=2).fit(x_train,np.log1p(y_train))"
   ]
  },
  {
   "cell_type": "code",
   "execution_count": 69,
   "id": "06c5c9c4",
   "metadata": {},
   "outputs": [],
   "source": [
    "dt_pred=dt_mod.predict(x_test)"
   ]
  },
  {
   "cell_type": "code",
   "execution_count": 70,
   "id": "892153e8",
   "metadata": {},
   "outputs": [
    {
     "name": "stdout",
     "output_type": "stream",
     "text": [
      "RMSLE value For decision tree:  7.23199278240827e-13\n"
     ]
    }
   ],
   "source": [
    "print (\"RMSLE value For decision tree: \",rmsle(np.exp(np.log1p(y_test)),np.exp(dt_pred),False))"
   ]
  },
  {
   "cell_type": "code",
   "execution_count": 71,
   "id": "51a1578a",
   "metadata": {},
   "outputs": [
    {
     "data": {
      "text/plain": [
       "7.23199278240827e-13"
      ]
     },
     "execution_count": 71,
     "metadata": {},
     "output_type": "execute_result"
    }
   ],
   "source": [
    "rmsle(np.exp(np.log1p(y_test)),np.exp(dt_pred),False)"
   ]
  },
  {
   "cell_type": "code",
   "execution_count": 72,
   "id": "4f948e1f",
   "metadata": {},
   "outputs": [],
   "source": [
    "#Random forest\n",
    "from sklearn.ensemble import RandomForestRegressor"
   ]
  },
  {
   "cell_type": "code",
   "execution_count": 73,
   "id": "e58bd406",
   "metadata": {},
   "outputs": [],
   "source": [
    "rf_mod=RandomForestRegressor(n_estimators=500).fit(x_train,np.log1p(y_train))"
   ]
  },
  {
   "cell_type": "code",
   "execution_count": 74,
   "id": "686e0c57",
   "metadata": {},
   "outputs": [],
   "source": [
    "pred=rf_mod.predict(x_test)"
   ]
  },
  {
   "cell_type": "code",
   "execution_count": 75,
   "id": "01030c14",
   "metadata": {},
   "outputs": [
    {
     "name": "stdout",
     "output_type": "stream",
     "text": [
      "RMSLE Value For Random Forest:  2.473576898864849e-13\n"
     ]
    }
   ],
   "source": [
    "print (\"RMSLE Value For Random Forest: \",rmsle(np.exp(np.log1p(y_test)),np.exp(pred),False))"
   ]
  },
  {
   "cell_type": "code",
   "execution_count": null,
   "id": "93c61e20",
   "metadata": {},
   "outputs": [],
   "source": []
  }
 ],
 "metadata": {
  "kernelspec": {
   "display_name": "Python 3 (ipykernel)",
   "language": "python",
   "name": "python3"
  },
  "language_info": {
   "codemirror_mode": {
    "name": "ipython",
    "version": 3
   },
   "file_extension": ".py",
   "mimetype": "text/x-python",
   "name": "python",
   "nbconvert_exporter": "python",
   "pygments_lexer": "ipython3",
   "version": "3.9.13"
  }
 },
 "nbformat": 4,
 "nbformat_minor": 5
}
